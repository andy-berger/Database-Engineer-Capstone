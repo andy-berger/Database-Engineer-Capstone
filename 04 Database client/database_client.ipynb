{
 "cells": [
  {
   "cell_type": "code",
   "execution_count": 9,
   "metadata": {},
   "outputs": [],
   "source": [
    "import mysql.connector as connector\n",
    "connection = connector.connect(user = \"coursera\", password = \"password\", db = \"LittleLemonDB\")"
   ]
  },
  {
   "cell_type": "code",
   "execution_count": 10,
   "metadata": {},
   "outputs": [
    {
     "name": "stdout",
     "output_type": "stream",
     "text": [
      "('Bookings',)\n",
      "('Customers',)\n",
      "('DeliveryStatus',)\n",
      "('Menu',)\n",
      "('Orders',)\n",
      "('OrdersView',)\n",
      "('Staff',)\n"
     ]
    }
   ],
   "source": [
    "cursor = connection.cursor()\n",
    "cursor.execute(\"SHOW TABLES\")\n",
    "for table in cursor:\n",
    "    print(table)"
   ]
  },
  {
   "cell_type": "code",
   "execution_count": 11,
   "metadata": {},
   "outputs": [],
   "source": [
    "query = '''\n",
    "SELECT CONCAT(Customers.FirstName, \" \", Customers.LastName) AS FullName, Customers.Email, Customers.PhoneNumber, Orders.TotalCost\n",
    "FROM Customers INNER JOIN Orders\n",
    "ON Customers.CustomerID = Orders.CustomerID\n",
    "WHERE Orders.TotalCost > 60\n",
    "ORDER BY Orders.TotalCost;\n",
    "'''\n",
    "cursor.execute(query)\n",
    "customers = cursor.fetchall()\n",
    "for customer in customers:\n",
    "    print(customer)"
   ]
  }
 ],
 "metadata": {
  "kernelspec": {
   "display_name": "Python 3",
   "language": "python",
   "name": "python3"
  },
  "language_info": {
   "codemirror_mode": {
    "name": "ipython",
    "version": 3
   },
   "file_extension": ".py",
   "mimetype": "text/x-python",
   "name": "python",
   "nbconvert_exporter": "python",
   "pygments_lexer": "ipython3",
   "version": "3.8.10"
  },
  "orig_nbformat": 4
 },
 "nbformat": 4,
 "nbformat_minor": 2
}
